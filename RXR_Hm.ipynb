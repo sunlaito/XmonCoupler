{
  "nbformat": 4,
  "nbformat_minor": 0,
  "metadata": {
    "colab": {
      "name": "RXR_Hm.ipynb",
      "provenance": [],
      "collapsed_sections": [],
      "authorship_tag": "ABX9TyMf1Lcbwyu/xfC17C+xwJmg",
      "include_colab_link": true
    },
    "kernelspec": {
      "name": "python3",
      "display_name": "Python 3"
    }
  },
  "cells": [
    {
      "cell_type": "markdown",
      "metadata": {
        "id": "view-in-github",
        "colab_type": "text"
      },
      "source": [
        "<a href=\"https://colab.research.google.com/github/sunlaito/XmonCoupler/blob/master/RXR_Hm.ipynb\" target=\"_parent\"><img src=\"https://colab.research.google.com/assets/colab-badge.svg\" alt=\"Open In Colab\"/></a>"
      ]
    },
    {
      "cell_type": "markdown",
      "metadata": {
        "id": "46S_bsNzmd15",
        "colab_type": "text"
      },
      "source": [
        "RXR Hamiltonian"
      ]
    },
    {
      "cell_type": "code",
      "metadata": {
        "id": "4n-fpqRpmkMk",
        "colab_type": "code",
        "colab": {
          "base_uri": "https://localhost:8080/",
          "height": 89
        },
        "outputId": "5129ac9f-b588-45d2-c8d0-d07e61916af9"
      },
      "source": [
        "!pip install qutip"
      ],
      "execution_count": null,
      "outputs": [
        {
          "output_type": "stream",
          "text": [
            "Requirement already satisfied: qutip in /usr/local/lib/python3.6/dist-packages (4.5.2)\n",
            "Requirement already satisfied: cython>=0.21 in /usr/local/lib/python3.6/dist-packages (from qutip) (0.29.21)\n",
            "Requirement already satisfied: numpy>=1.12 in /usr/local/lib/python3.6/dist-packages (from qutip) (1.18.5)\n",
            "Requirement already satisfied: scipy>=1.0 in /usr/local/lib/python3.6/dist-packages (from qutip) (1.4.1)\n"
          ],
          "name": "stdout"
        }
      ]
    },
    {
      "cell_type": "markdown",
      "metadata": {
        "id": "fycAXN9E1LjA",
        "colab_type": "text"
      },
      "source": [
        "Part 1: Define functions"
      ]
    },
    {
      "cell_type": "code",
      "metadata": {
        "id": "waT-PNgKmsCs",
        "colab_type": "code",
        "colab": {}
      },
      "source": [
        "from qutip import *\n",
        "import numpy as np\n",
        "import scipy.special as sp\n",
        "import scipy.integrate as si\n",
        "import matplotlib.pyplot as plt\n",
        "\n",
        "# Function Even check\n",
        "def EvenQ(number):\n",
        "        return number % 2 == 0\n",
        "\n",
        "\n",
        "# Function En/Ec of Level n\n",
        "def EnXm(n,rJC):\n",
        "  if EvenQ(n):\n",
        "    return sp.mathieu_a(n,-rJC/2)-sp.mathieu_a(0,-rJC/2)\n",
        "  else:\n",
        "    return sp.mathieu_b(n+1,-rJC/2)-sp.mathieu_a(0,-rJC/2)\n",
        "\n",
        "\n",
        "# Function Psi(phi) of Level n\n",
        "def PsiN(n,rJC,phi):\n",
        "  Rrad=180/np.pi;\n",
        "  if EvenQ(n):\n",
        "    return sp.mathieu_cem(n,-rJC/2,phi*Rrad/2)[0]/np.sqrt(np.pi)\n",
        "  else:\n",
        "    return sp.mathieu_sem(n+1,-rJC/2,phi*Rrad/2)[0]/np.sqrt(np.pi)\n",
        "  #scipy mathieu function take phi(deg) as input, but still regard phi(rad) as its independent variable!!!\n",
        "  # 1/np.sqrt(np.pi): normalization coefficient\n",
        "\n",
        "\n",
        "# Function d_Psi(phi)/d_phi of Level n\n",
        "def PsiNP(n,rJC,phi):\n",
        "  Rrad=180/np.pi;\n",
        "  if EvenQ(n):\n",
        "    return sp.mathieu_cem(n,-rJC/2,phi*Rrad/2)[1]/np.sqrt(np.pi)/2\n",
        "  else:\n",
        "    return sp.mathieu_sem(n+1,-rJC/2,phi*Rrad/2)[1]/np.sqrt(np.pi)/2\n",
        " #scipy mathieu derivative function take phi(deg) as input, but still regard phi(rad) as its independent variable!!!\n",
        "\n",
        "\n",
        "# Function Tij, Elements of the Transition Matrix of Xmon\n",
        "def FTij(rJC,i,j):\n",
        "  fphi=lambda phi:PsiN(i,rJC,phi) * PsiNP(j,rJC,phi)\n",
        "  return si.quad(fphi,0,2*np.pi)[0]\n",
        "\n",
        "\n",
        "# Function Transition Matrix of Xmon\n",
        "def FXTmat(rJC):\n",
        "  TList=np.array([FTij(rJC,0,1),FTij(rJC,1,2)])\n",
        "  return qdiags(TList,1)+qdiags(-TList,-1)\n",
        "\n",
        "\n",
        "# Function En/Ec Matrix of Xmon\n",
        "def FXEmat(rJC):\n",
        "  return qdiags([0,EnXm(1,rJC),EnXm(2,rJC)],0)\n",
        "\n",
        "\n",
        "# Function Total Hm of System\n",
        "def HTotal(rJC):\n",
        "  Tmat=FXTmat(rJC)\n",
        "  return (GpEa*HaM+GpEb*HbM+GpEm*HmM+tensor(IC3,GpEcx*FXEmat(rJC))\n",
        "  +GpEab*HabM +GpEam*HamM +GpEbm*HbmM\n",
        "  +GpExa*tensor(QII,Tmat)+GpExb*tensor(IQI,Tmat)+GpExm*tensor(IIQ,Tmat))\n",
        "  # return only recognizes the first line of the above expression if () is not used\n",
        "\n",
        "\n",
        "# Function First N eigenenergies of HTotal\n",
        "def EnHt(rJC,N):\n",
        "  return HTotal(rJC).eigenenergies(eigvals=N)\n",
        "\n",
        "\n",
        "# Function First N eigenenergies of HTotal for Array rJCV\n",
        "def EnHtV(rJCV,N):\n",
        "  EnHtV=np.zeros(N)\n",
        "  for rJC in rJCV:\n",
        "    EnHtV=np.vstack((EnHtV,EnHt(rJC,N)))\n",
        "  return np.delete(EnHtV,0,0)\n",
        "\n",
        "\n",
        "# Function states probility for eigenmodes of Ra & Rb\n",
        "def EnRab(rJC):\n",
        "  pArray=np.array([0,0,0,0],dtype = \"complex_\")\n",
        "  EigenV=HTotal(rJC).eigenstates(eigvals=3)[1]\n",
        "  \n",
        "  # EigenV[0]: ground state of the system\n",
        "  # EigenV[1]: eigenmode with the lower energy\n",
        "  pArray[0]=EigenV[1][stRaRow,0] #stRaRow=48\n",
        "  pArray[1]=EigenV[1][stRbRow,0] #stRbRow=12\n",
        "  \n",
        "  # EigenV[2]: eigenmode with the higher energy\n",
        "  pArray[2]=EigenV[2][stRaRow,0] \n",
        "  pArray[3]=EigenV[2][stRaRow,0]\n",
        "  return abs(pArray)**2\n",
        "\n",
        "\n",
        "# Function states probility for eigenmodes of Ra & Rb for vector rJCV\n",
        "def EnRabV(rJCV):\n",
        "  pVMat=np.zeros(4)\n",
        "  for rJC in rJCV:\n",
        "    pVMat=np.vstack((pVMat,EnRab(rJC)))\n",
        "  return np.delete(pVMat,0,0)\n",
        "\n",
        "\n",
        "# Function derive rJC and flux from a certain f01, Ec, and rJCmax\n",
        "def FrJC(f01,Ec,rJCmax):\n",
        "  rJC=(Ec+f01)**2/8/Ec**2;\n",
        "  flux=np.arccos(rJC/rJCmax);\n",
        "  return [rJC,flux]\n",
        "\n",
        "\n",
        "# Function derive f01 from a certain Ec and rJC\n",
        "def Ff01(Ec,rJC):\n",
        "  return np.sqrt(8*rJC)*Ec-Ec\n",
        "\n",
        "\n",
        "# Resonator Parameters\n",
        "NumC=4; #Resonator levels\n",
        "aM=destroy(NumC)\n",
        "adM=create(NumC)\n",
        "qM=aM-adM\n",
        "nM=num(NumC) # operator N\n",
        "IC=qeye(NumC)\n",
        "# Xmon Parameters\n",
        "NumX=3; #Xmon levels\n",
        "IX=qeye(NumX)\n",
        "# Tensor Matrix\n",
        "HaM=tensor(nM,IC,IC,IX)\n",
        "HbM=tensor(IC, nM, IC, IX)\n",
        "HmM=tensor(IC, IC, nM, IX)\n",
        "IC3=tensor(IC, IC, IC)\n",
        "QII=tensor(qM, IC, IC)\n",
        "IQI=tensor(IC, qM, IC)\n",
        "IIQ=tensor(IC, IC, qM)\n",
        "HabM=tensor(qM, qM, IC, IX)\n",
        "HamM=tensor(qM, IC, qM, IX)\n",
        "HbmM=tensor(IC, qM, qM, IX)\n",
        "# Resonator states\n",
        "stRg=basis(NumC,0)\n",
        "stRe=basis(NumC,1)\n",
        "stXg=basis(NumX,0)\n",
        "# Tensor resonator states\n",
        "stRa= tensor(stRe,stRg,stRg,stXg)\n",
        "stRb= tensor(stRg,stRe,stRg,stXg)\n",
        "stRaRow=48 # stRa[stRaRow,0]=1\n",
        "stRbRow=12 # stRb[stRbRow,0]=1"
      ],
      "execution_count": null,
      "outputs": []
    },
    {
      "cell_type": "markdown",
      "metadata": {
        "id": "uviPUKjU0-Y8",
        "colab_type": "text"
      },
      "source": [
        "Part 2: Plot figures"
      ]
    },
    {
      "cell_type": "code",
      "metadata": {
        "id": "PpBVi91iLxUl",
        "colab_type": "code",
        "colab": {}
      },
      "source": [
        "# Oringinal Parameters from MMA\n",
        "# Ea!=Eb, Exa!=Exb\n",
        "# Parameters from MMA (Rm considered)\n",
        "rJCmax=195.53094314412937; \n",
        "GpEa=4.880856484706924e9;\n",
        "GpEb=4.880601012712622e9; \n",
        "GpEm=5.555193967438693e9;\n",
        "GpEcx=1.9449718343371117e8; \n",
        "GpEab=-982494.9644337803;\n",
        "GpEam=-580242.8043396688; \n",
        "GpEbm=-882901.6518874831;\n",
        "GpExa=-2.6774428090971626e7; \n",
        "GpExb=-2.6774716480690457e7;\n",
        "GpExm=-2.1940666930725377e7;\n",
        "\n",
        "NumEn=3\n",
        "NumPoints=1000\n",
        "FluxV=np.linspace(0,1,NumPoints+1)\n",
        "rJCV=rJCmax*np.cos(FluxV);"
      ],
      "execution_count": null,
      "outputs": []
    },
    {
      "cell_type": "code",
      "metadata": {
        "id": "OvpdnR2HsG7x",
        "colab_type": "code",
        "colab": {}
      },
      "source": [
        "NumRab=4\n",
        "FluxMat_Rab=np.tile(FluxV,(NumRab,1)).transpose()\n",
        "pVMat_Rab=EnRabV(rJCV)"
      ],
      "execution_count": null,
      "outputs": []
    },
    {
      "cell_type": "code",
      "metadata": {
        "id": "a5BI8HX5s2bp",
        "colab_type": "code",
        "colab": {
          "base_uri": "https://localhost:8080/",
          "height": 293
        },
        "outputId": "2dc61985-1f79-4cec-c7f4-eb905b8bfbe8"
      },
      "source": [
        "plt.rcParams.update({'font.size': 12})\n",
        "plt.rcParams.update({'figure.autolayout': True}) #avoid missing label in pdf file\n",
        "\n",
        "plt.plot(FluxMat_Rab[:,0:2],pVMat_Rab[:,0:2])\n",
        "plt.xlabel('f')\n",
        "plt.ylabel('Probability')\n",
        "plt.savefig('fig-pabM.pdf')\n",
        "plt.show()"
      ],
      "execution_count": null,
      "outputs": [
        {
          "output_type": "display_data",
          "data": {
            "image/png": "[encoded data removed]",
            "text/plain": [
              "<Figure size 432x288 with 1 Axes>"
            ]
          },
          "metadata": {
            "tags": [],
            "needs_background": "light"
          }
        }
      ]
    },
    {
      "cell_type": "code",
      "metadata": {
        "id": "8y2OSlEMtlQN",
        "colab_type": "code",
        "colab": {
          "base_uri": "https://localhost:8080/",
          "height": 293
        },
        "outputId": "942de1f6-48a5-44f8-fc98-3eb7b3a1445c"
      },
      "source": [
        "plt.rcParams.update({'font.size': 12})\n",
        "plt.rcParams.update({'figure.autolayout': True}) #avoid missing label in pdf file\n",
        "\n",
        "plt.plot(FluxMat_Rab[:,2:4],pVMat_Rab[:,[1,3]])\n",
        "plt.xlabel('f')\n",
        "plt.ylabel('Probability')\n",
        "plt.savefig('fig-pabP.pdf')\n",
        "plt.show()"
      ],
      "execution_count": null,
      "outputs": [
        {
          "output_type": "display_data",
          "data": {
            "image/png": "[encoded data removed]",
            "text/plain": [
              "<Figure size 432x288 with 1 Axes>"
            ]
          },
          "metadata": {
            "tags": [],
            "needs_background": "light"
          }
        }
      ]
    },
    {
      "cell_type": "code",
      "metadata": {
        "id": "d8ImHQt3p84a",
        "colab_type": "code",
        "colab": {}
      },
      "source": [
        "FluxMat_to=np.tile(FluxV,(NumEn,1)).transpose()[:,1:3]\n",
        "EnMat_to=EnHtV(rJCV,NumEn)[:,1:3]"
      ],
      "execution_count": null,
      "outputs": []
    },
    {
      "cell_type": "code",
      "metadata": {
        "id": "icEz94bvdOI3",
        "colab_type": "code",
        "colab": {
          "base_uri": "https://localhost:8080/",
          "height": 329
        },
        "outputId": "a8177c01-ce75-4403-9434-a1dde46e4578"
      },
      "source": [
        "plt.rcParams.update({'font.size': 12})\n",
        "plt.rcParams.update({'figure.autolayout': True}) #avoid missing label in pdf file\n",
        "\n",
        "plt.plot(FluxMat_to,EnMat_to)\n",
        "plt.xlabel('f')\n",
        "plt.ylabel('En [Hz]')\n",
        "plt.savefig('fig-En3.pdf')\n",
        "plt.show()\n",
        "\n",
        "EnDiff=np.abs(EnMat_to[:,0]-EnMat_to[:,1]);\n",
        "EnDiffMin= np.amin(EnDiff)\n",
        "IdMin = np.where(EnDiff == EnDiffMin)[0][0]\n",
        "\n",
        "\n",
        "#turn-off frequency for Xmon\n",
        "#minimum frequency difference between mormal modes of A&B, should equal to |fA-fB|\n",
        "print(EnDiffMin/1e6)\n",
        "print(IdMin,FluxV[IdMin],(EnXm(1,rJCV[IdMin])-EnXm(0,rJCV[IdMin]))*GpEcx/1e9,EnDiff[IdMin]/2/1e6)            "
      ],
      "execution_count": null,
      "outputs": [
        {
          "output_type": "display_data",
          "data": {
            "image/png": "[encoded data removed]",
            "text/plain": [
              "<Figure size 432x288 with 1 Axes>"
            ]
          },
          "metadata": {
            "tags": [],
            "needs_background": "light"
          }
        },
        {
          "output_type": "stream",
          "text": [
            "0.2553075386209488\n",
            "637 0.637 6.6966034893544295 0.1276537693104744\n"
          ],
          "name": "stdout"
        }
      ]
    },
    {
      "cell_type": "code",
      "metadata": {
        "id": "P-U2-euMi61W",
        "colab_type": "code",
        "colab": {}
      },
      "source": [
        "# Function \n",
        "def Fgab(Dabd,Dpm):\n",
        "  return np.sqrt(Dpm**2-Dab**2)/2\n",
        "\n",
        "# Function \n",
        "def FdeltaS(freqX):\n",
        "  deltaS= GpExa**2*(1/(GpEa-freqX)-1/(GpEa+freqX)) -GpExb**2*(1/(GpEb-freqX)-1/(GpEb+freqX))\n",
        "  return deltaS "
      ],
      "execution_count": null,
      "outputs": []
    },
    {
      "cell_type": "code",
      "metadata": {
        "id": "1Dg6vExuj0ph",
        "colab_type": "code",
        "colab": {
          "base_uri": "https://localhost:8080/",
          "height": 35
        },
        "outputId": "67eb2da9-1008-4210-e8e9-195cc9649788"
      },
      "source": [
        "Dab=GpEa-GpEb\n",
        "Dab"
      ],
      "execution_count": null,
      "outputs": [
        {
          "output_type": "execute_result",
          "data": {
            "text/plain": [
              "255471.99430274963"
            ]
          },
          "metadata": {
            "tags": []
          },
          "execution_count": 11
        }
      ]
    },
    {
      "cell_type": "code",
      "metadata": {
        "colab_type": "code",
        "id": "Ltqffo44hzd3",
        "colab": {
          "base_uri": "https://localhost:8080/",
          "height": 125
        },
        "outputId": "fd560f06-6f27-4196-f900-6a6d93988503"
      },
      "source": [
        "IdTest=637\n",
        "fXmon=(EnXm(1,rJCV[IdTest])-EnXm(0,rJCV[IdTest]))*GpEcx;\n",
        "#fXmon = Ff01(GpEcx,rJCV[IdTest])\n",
        "Dpm=EnDiff[IdTest]\n",
        "\n",
        "deltaS=FdeltaS(fXmon)\n",
        "gab=Fgab(Dab+deltaS,Dpm)\n",
        "\n",
        "print(FluxV[IdTest],fXmon/1e9,Dpm)\n",
        "print(deltaS)\n",
        "print(Dab+deltaS)\n",
        "print(gab)"
      ],
      "execution_count": null,
      "outputs": [
        {
          "output_type": "stream",
          "text": [
            "0.637 6.6966034893544295 255307.5386209488\n",
            "-44.33663758588955\n",
            "255427.65766516374\n",
            "nan\n"
          ],
          "name": "stdout"
        },
        {
          "output_type": "stream",
          "text": [
            "/usr/local/lib/python3.6/dist-packages/ipykernel_launcher.py:3: RuntimeWarning: invalid value encountered in sqrt\n",
            "  This is separate from the ipykernel package so we can avoid doing imports until\n"
          ],
          "name": "stderr"
        }
      ]
    },
    {
      "cell_type": "code",
      "metadata": {
        "colab_type": "code",
        "id": "B_1hXSjsiwcF",
        "colab": {
          "base_uri": "https://localhost:8080/",
          "height": 89
        },
        "outputId": "ee59e5f5-25b4-48ab-aa39-205401fec71f"
      },
      "source": [
        "IdTest=0\n",
        "fXmon=(EnXm(1,rJCV[IdTest])-EnXm(0,rJCV[IdTest]))*GpEcx;\n",
        "#fXmon = Ff01(GpEcx,rJCV[IdTest])\n",
        "Dpm=EnDiff[IdTest]\n",
        "deltaS=FdeltaS(fXmon)\n",
        "gab=Fgab(Dab+deltaS,Dpm)\n",
        "\n",
        "print(FluxV[IdTest],fXmon/1e9,Dpm)\n",
        "print(deltaS)\n",
        "print(Dab+deltaS)\n",
        "print(gab)"
      ],
      "execution_count": null,
      "outputs": [
        {
          "output_type": "stream",
          "text": [
            "0.0 7.492699451176647 445490.0185585022\n",
            "-18.487586554081645\n",
            "255453.50671619555\n",
            "182479.73638340677\n"
          ],
          "name": "stdout"
        }
      ]
    },
    {
      "cell_type": "code",
      "metadata": {
        "colab_type": "code",
        "id": "0VxrOzO3iG2i",
        "colab": {
          "base_uri": "https://localhost:8080/",
          "height": 89
        },
        "outputId": "7a9aea48-6305-487a-fecc-9d6d1edf091c"
      },
      "source": [
        "IdTest=700\n",
        "fXmon=(EnXm(1,rJCV[IdTest])-EnXm(0,rJCV[IdTest]))*GpEcx;\n",
        "#fXmon = Ff01(GpEcx,rJCV[IdTest])\n",
        "Dpm=EnDiff[IdTest]\n",
        "deltaS=FdeltaS(fXmon)\n",
        "gab=Fgab(Dab+deltaS,Dpm)\n",
        "\n",
        "print(FluxV[IdTest],fXmon/1e9,Dpm)\n",
        "print(deltaS)\n",
        "print(Dab+deltaS)\n",
        "print(gab)"
      ],
      "execution_count": null,
      "outputs": [
        {
          "output_type": "stream",
          "text": [
            "0.7000000000000001 6.526874896927784 283708.4479675293\n",
            "-55.442790913337376\n",
            "255416.5515118363\n",
            "61693.88862586013\n"
          ],
          "name": "stdout"
        }
      ]
    },
    {
      "cell_type": "code",
      "metadata": {
        "colab_type": "code",
        "id": "gJCVCbZxknKg",
        "colab": {
          "base_uri": "https://localhost:8080/",
          "height": 89
        },
        "outputId": "3644bd66-74aa-427a-88d9-d1e7cfbe947d"
      },
      "source": [
        "IdTest=800\n",
        "fXmon=(EnXm(1,rJCV[IdTest])-EnXm(0,rJCV[IdTest]))*GpEcx;\n",
        "#fXmon = Ff01(GpEcx,rJCV[IdTest])\n",
        "Dpm=EnDiff[IdTest]\n",
        "deltaS=FdeltaS(fXmon)\n",
        "gab=Fgab(Dab+deltaS,Dpm)\n",
        "\n",
        "print(FluxV[IdTest],fXmon/1e9,Dpm)\n",
        "print(deltaS)\n",
        "print(Dab+deltaS)\n",
        "print(gab)"
      ],
      "execution_count": null,
      "outputs": [
        {
          "output_type": "stream",
          "text": [
            "0.8 6.21991156598028 500523.5490875244\n",
            "-87.71038182056509\n",
            "255384.28392092907\n",
            "215207.97111059068\n"
          ],
          "name": "stdout"
        }
      ]
    },
    {
      "cell_type": "code",
      "metadata": {
        "colab_type": "code",
        "id": "WrG9kZc3iL5n",
        "colab": {
          "base_uri": "https://localhost:8080/",
          "height": 89
        },
        "outputId": "87bc0fac-6a0a-4d78-9f7a-495ee534fd10"
      },
      "source": [
        "IdTest=900\n",
        "fXmon=(EnXm(1,rJCV[IdTest])-EnXm(0,rJCV[IdTest]))*GpEcx;\n",
        "#fXmon = Ff01(GpEcx,rJCV[IdTest])\n",
        "Dpm=EnDiff[IdTest]\n",
        "deltaS=FdeltaS(fXmon)\n",
        "gab=Fgab(Dab+deltaS,Dpm)\n",
        "\n",
        "print(FluxV[IdTest],fXmon/1e9,Dpm)\n",
        "print(deltaS)\n",
        "print(Dab+deltaS)\n",
        "print(gab/1e6)"
      ],
      "execution_count": null,
      "outputs": [
        {
          "output_type": "stream",
          "text": [
            "0.9 5.863588737057793 1060987.2850551605\n",
            "-170.84936410258524\n",
            "255301.14493864705\n",
            "0.5148854433696141\n"
          ],
          "name": "stdout"
        }
      ]
    },
    {
      "cell_type": "code",
      "metadata": {
        "id": "1tKKyQMpAPZI",
        "colab_type": "code",
        "colab": {
          "base_uri": "https://localhost:8080/",
          "height": 89
        },
        "outputId": "374e0c52-e8dc-4392-854b-c6d14535bb46"
      },
      "source": [
        "IdTest=850\n",
        "fXmon=(EnXm(1,rJCV[IdTest])-EnXm(0,rJCV[IdTest]))*GpEcx;\n",
        "#fXmon = Ff01(GpEcx,rJCV[IdTest])\n",
        "Dpm=EnDiff[IdTest]\n",
        "deltaS=FdeltaS(fXmon)\n",
        "gab=Fgab(Dab+deltaS,Dpm)\n",
        "\n",
        "print(FluxV[IdTest],fXmon/1e9,Dpm/1e6)\n",
        "print(deltaS)\n",
        "print(Dab+deltaS)\n",
        "print(gab/1e6)\n"
      ],
      "execution_count": null,
      "outputs": [
        {
          "output_type": "stream",
          "text": [
            "0.85 6.048206149394899 0.7201393771152497\n",
            "-118.19258475268725\n",
            "255353.80171799695\n",
            "0.3366507027316725\n"
          ],
          "name": "stdout"
        }
      ]
    },
    {
      "cell_type": "code",
      "metadata": {
        "colab_type": "code",
        "id": "tWZZvHZ_iOk9",
        "colab": {
          "base_uri": "https://localhost:8080/",
          "height": 89
        },
        "outputId": "560ca59d-d378-476f-bbb0-d6864be046a5"
      },
      "source": [
        "IdTest=1000\n",
        "fXmon=(EnXm(1,rJCV[IdTest])-EnXm(0,rJCV[IdTest]))*GpEcx;\n",
        "#fXmon = Ff01(GpEcx,rJCV[IdTest])\n",
        "Dpm=EnDiff[IdTest]\n",
        "deltaS=FdeltaS(fXmon)\n",
        "gab=Fgab(Dab+deltaS,Dpm)\n",
        "\n",
        "print(FluxV[IdTest],fXmon/1e9,Dpm)\n",
        "print(deltaS)\n",
        "print(Dab+deltaS)\n",
        "print(gab/1e6)\n"
      ],
      "execution_count": null,
      "outputs": [
        {
          "output_type": "stream",
          "text": [
            "1.0 5.452492732013895 2660556.168434143\n",
            "-529.9959566527978\n",
            "254941.99834609684\n",
            "1.3241311477266842\n"
          ],
          "name": "stdout"
        }
      ]
    },
    {
      "cell_type": "code",
      "metadata": {
        "colab_type": "code",
        "id": "sa3hhRneMXcD",
        "colab": {}
      },
      "source": [
        "# Results from MMA with ignoring Cam and Cbm. In this case ExA=ExB, Exa=Exb\n",
        "rJCmax=195.53094294845417; \n",
        "GpEa=4.886646940774334e9;\n",
        "GpEb=4.886646940774334e9; \n",
        "GpEm=5.5574257954247055e9;\n",
        "GpEcx=1.944971836283518e8; \n",
        "GpEab=-983673.5173940662;\n",
        "GpEam=-377756.9677136507; \n",
        "GpEbm=-377756.9677136507;\n",
        "GpExa=-2.678964318946407e7; \n",
        "GpExb=-2.678964318946407e7;\n",
        "GpExm=-2.194061811026641e7\n",
        "\n",
        "NumEn=3\n",
        "NumPoints=1000\n",
        "FluxV=np.linspace(0,1,NumPoints+1)  #devide interval into NumPoints parts, resulting (NumPoints+1) points\n",
        "rJCV=rJCmax*np.cos(FluxV);\n",
        "\n",
        "FluxMat_toNM=np.tile(FluxV,(NumEn,1)).transpose()[:,1:3]\n",
        "EnMat_toNM=EnHtV(rJCV,NumEn)[:,1:3]"
      ],
      "execution_count": null,
      "outputs": []
    },
    {
      "cell_type": "code",
      "metadata": {
        "colab_type": "code",
        "id": "MYqWgHwaiJQ0",
        "colab": {
          "base_uri": "https://localhost:8080/",
          "height": 35
        },
        "outputId": "582e66d7-eef5-43f5-96db-3feaca7290da"
      },
      "source": [
        "IdTest=0\n",
        "print(FluxV[IdTest],(EnXm(1,rJCV[IdTest])-EnXm(0,rJCV[IdTest]))*GpEcx/1e9,EnDiff[IdTest]/2/1e6)"
      ],
      "execution_count": null,
      "outputs": [
        {
          "output_type": "stream",
          "text": [
            "0.0 7.4926994548229535 0.18116261705493927\n"
          ],
          "name": "stdout"
        }
      ]
    },
    {
      "cell_type": "code",
      "metadata": {
        "id": "BFeAfdopez6E",
        "colab_type": "code",
        "colab": {
          "base_uri": "https://localhost:8080/",
          "height": 311
        },
        "outputId": "b8e7ac5b-d3e4-473b-bf52-f6d94b96e1ac"
      },
      "source": [
        "plt.rcParams.update({'font.size': 12})\n",
        "plt.rcParams.update({'figure.autolayout': True}) #avoid missing label in pdf file\n",
        "\n",
        "plt.plot(FluxMat_toNM,EnMat_toNM)\n",
        "plt.xlabel('f')\n",
        "plt.ylabel('En [Hz]')\n",
        "plt.savefig('fig-En4.pdf')\n",
        "plt.show()\n",
        "\n",
        "EnDiff=np.abs(EnMat_toNM[:,0]-EnMat_toNM[:,1]);\n",
        "EnDiffMin= np.amin(EnDiff)\n",
        "IdMin = np.where(EnDiff == EnDiffMin)[0][0]\n",
        "\n",
        "print(IdMin,FluxV[IdMin],(EnXm(1,rJCV[IdMin])-EnXm(0,rJCV[IdMin]))*GpEcx/1e9,EnDiff[IdMin]/2/1e6) "
      ],
      "execution_count": null,
      "outputs": [
        {
          "output_type": "display_data",
          "data": {
            "image/png": "[encoded data removed]",
            "text/plain": [
              "<Figure size 432x288 with 1 Axes>"
            ]
          },
          "metadata": {
            "tags": [],
            "needs_background": "light"
          }
        },
        {
          "output_type": "stream",
          "text": [
            "634 0.634 6.70424545131946 8.490963363647461e-05\n"
          ],
          "name": "stdout"
        }
      ]
    },
    {
      "cell_type": "code",
      "metadata": {
        "id": "QgKFC1D7o4iW",
        "colab_type": "code",
        "colab": {
          "base_uri": "https://localhost:8080/",
          "height": 35
        },
        "outputId": "582e66d7-eef5-43f5-96db-3feaca7290da"
      },
      "source": [
        "IdTest=0\n",
        "print(FluxV[IdTest],(EnXm(1,rJCV[IdTest])-EnXm(0,rJCV[IdTest]))*GpEcx/1e9,EnDiff[IdTest]/2/1e6)"
      ],
      "execution_count": null,
      "outputs": [
        {
          "output_type": "stream",
          "text": [
            "0.0 7.4926994548229535 0.18116261705493927\n"
          ],
          "name": "stdout"
        }
      ]
    },
    {
      "cell_type": "code",
      "metadata": {
        "colab_type": "code",
        "id": "-geklX9_hwyq",
        "colab": {
          "base_uri": "https://localhost:8080/",
          "height": 35
        },
        "outputId": "582e66d7-eef5-43f5-96db-3feaca7290da"
      },
      "source": [
        "IdTest=0\n",
        "print(FluxV[IdTest],(EnXm(1,rJCV[IdTest])-EnXm(0,rJCV[IdTest]))*GpEcx/1e9,EnDiff[IdTest]/2/1e6)"
      ],
      "execution_count": null,
      "outputs": [
        {
          "output_type": "stream",
          "text": [
            "0.0 7.4926994548229535 0.18116261705493927\n"
          ],
          "name": "stdout"
        }
      ]
    },
    {
      "cell_type": "code",
      "metadata": {
        "id": "w97612r9pPUq",
        "colab_type": "code",
        "colab": {
          "base_uri": "https://localhost:8080/",
          "height": 35
        },
        "outputId": "499ce843-9413-4fef-b4f2-25a883d0c196"
      },
      "source": [
        "IdTest=700\n",
        "print(FluxV[IdTest],(EnXm(1,rJCV[IdTest])-EnXm(0,rJCV[IdTest]))*GpEcx/1e9,EnDiff[IdTest]/2/1e6)"
      ],
      "execution_count": null,
      "outputs": [
        {
          "output_type": "stream",
          "text": [
            "0.7000000000000001 6.526874900089932 0.14185422398376465\n"
          ],
          "name": "stdout"
        }
      ]
    },
    {
      "cell_type": "code",
      "metadata": {
        "id": "E152HgJwuKDz",
        "colab_type": "code",
        "colab": {
          "base_uri": "https://localhost:8080/",
          "height": 35
        },
        "outputId": "8d67d0c6-cf3f-400b-8f5e-9564f56f5e3d"
      },
      "source": [
        "IdTest=800\n",
        "print(FluxV[IdTest],(EnXm(1,rJCV[IdTest])-EnXm(0,rJCV[IdTest]))*GpEcx/1e9,EnDiff[IdTest]/2/1e6)"
      ],
      "execution_count": null,
      "outputs": [
        {
          "output_type": "stream",
          "text": [
            "0.8 6.2199115689884845 0.2502617745437622\n"
          ],
          "name": "stdout"
        }
      ]
    },
    {
      "cell_type": "code",
      "metadata": {
        "id": "fpEZUS6PnGGD",
        "colab_type": "code",
        "colab": {
          "base_uri": "https://localhost:8080/",
          "height": 35
        },
        "outputId": "3b499d85-61ea-4f94-f8f1-1ab9d31e1b8d"
      },
      "source": [
        "IdTest=900\n",
        "print(FluxV[IdTest],(EnXm(1,rJCV[IdTest])-EnXm(0,rJCV[IdTest]))*GpEcx/1e9,EnDiff[IdTest]/2/1e6)"
      ],
      "execution_count": null,
      "outputs": [
        {
          "output_type": "stream",
          "text": [
            "0.9 5.863588739887248 0.5304936425275802\n"
          ],
          "name": "stdout"
        }
      ]
    },
    {
      "cell_type": "code",
      "metadata": {
        "id": "OBEVkmzEuLqz",
        "colab_type": "code",
        "colab": {
          "base_uri": "https://localhost:8080/",
          "height": 35
        },
        "outputId": "404797e7-52f6-4af2-f286-2be40bf9b37a"
      },
      "source": [
        "IdTest=1000\n",
        "print(FluxV[IdTest],(EnXm(1,rJCV[IdTest])-EnXm(0,rJCV[IdTest]))*GpEcx/1e9,EnDiff[IdTest]/2/1e6)"
      ],
      "execution_count": null,
      "outputs": [
        {
          "output_type": "stream",
          "text": [
            "1.0 5.452492734637043 1.3302780842170716\n"
          ],
          "name": "stdout"
        }
      ]
    },
    {
      "cell_type": "code",
      "metadata": {
        "id": "fvqgiQE_J9Ur",
        "colab_type": "code",
        "colab": {
          "base_uri": "https://localhost:8080/",
          "height": 125
        },
        "outputId": "8c5e99ed-38a8-488b-b247-33f8f2866bfe"
      },
      "source": [
        "sa=basis(2,0)\n",
        "sb=basis(2,0)\n",
        "s00=tensor(sa,sb)\n",
        "print(s00)"
      ],
      "execution_count": null,
      "outputs": [
        {
          "output_type": "stream",
          "text": [
            "Quantum object: dims = [[2, 2], [1, 1]], shape = (4, 1), type = ket\n",
            "Qobj data =\n",
            "[[1.]\n",
            " [0.]\n",
            " [0.]\n",
            " [0.]]\n"
          ],
          "name": "stdout"
        }
      ]
    },
    {
      "cell_type": "code",
      "metadata": {
        "id": "2egXi7wELwe4",
        "colab_type": "code",
        "colab": {
          "base_uri": "https://localhost:8080/",
          "height": 125
        },
        "outputId": "3af99392-b7a2-4bc8-d13a-8c89febb9c29"
      },
      "source": [
        "ma=Qobj([[1,0],[0,1]])\n",
        "mb=Qobj([[0,2],[2,0]])\n",
        "mtest=tensor(ma,mb)\n",
        "print(mtest)"
      ],
      "execution_count": null,
      "outputs": [
        {
          "output_type": "stream",
          "text": [
            "Quantum object: dims = [[2, 2], [2, 2]], shape = (4, 4), type = oper, isherm = True\n",
            "Qobj data =\n",
            "[[0. 2. 0. 0.]\n",
            " [2. 0. 0. 0.]\n",
            " [0. 0. 0. 2.]\n",
            " [0. 0. 2. 0.]]\n"
          ],
          "name": "stdout"
        }
      ]
    },
    {
      "cell_type": "code",
      "metadata": {
        "id": "kdEkA_-fb4yZ",
        "colab_type": "code",
        "colab": {
          "base_uri": "https://localhost:8080/",
          "height": 35
        },
        "outputId": "20813380-7603-40f5-ef99-2170af5b81d3"
      },
      "source": [
        "print(mtest.eigenenergies())"
      ],
      "execution_count": null,
      "outputs": [
        {
          "output_type": "stream",
          "text": [
            "[-2. -2.  2.  2.]\n"
          ],
          "name": "stdout"
        }
      ]
    },
    {
      "cell_type": "code",
      "metadata": {
        "id": "ZHopBqCCNv2C",
        "colab_type": "code",
        "colab": {
          "base_uri": "https://localhost:8080/",
          "height": 449
        },
        "outputId": "e9e58f8f-8a74-4ecb-84af-2cd38058bb02"
      },
      "source": [
        "print(mtest.eigenstates())"
      ],
      "execution_count": null,
      "outputs": [
        {
          "output_type": "stream",
          "text": [
            "(array([-2., -2.,  2.,  2.]), array([Quantum object: dims = [[2, 2], [1, 1]], shape = (4, 1), type = ket\n",
            "Qobj data =\n",
            "[[ 0.70710678]\n",
            " [-0.70710678]\n",
            " [ 0.        ]\n",
            " [ 0.        ]],\n",
            "       Quantum object: dims = [[2, 2], [1, 1]], shape = (4, 1), type = ket\n",
            "Qobj data =\n",
            "[[ 0.        ]\n",
            " [ 0.        ]\n",
            " [ 0.70710678]\n",
            " [-0.70710678]],\n",
            "       Quantum object: dims = [[2, 2], [1, 1]], shape = (4, 1), type = ket\n",
            "Qobj data =\n",
            "[[0.70710678]\n",
            " [0.70710678]\n",
            " [0.        ]\n",
            " [0.        ]],\n",
            "       Quantum object: dims = [[2, 2], [1, 1]], shape = (4, 1), type = ket\n",
            "Qobj data =\n",
            "[[0.        ]\n",
            " [0.        ]\n",
            " [0.70710678]\n",
            " [0.70710678]]], dtype=object))\n"
          ],
          "name": "stdout"
        }
      ]
    },
    {
      "cell_type": "code",
      "metadata": {
        "id": "u9Ofk81aRgNq",
        "colab_type": "code",
        "colab": {
          "base_uri": "https://localhost:8080/",
          "height": 125
        },
        "outputId": "b799d815-a3c2-40a0-e967-67ebdb5a0090"
      },
      "source": [
        "eTest=mtest.eigenstates()[1][0]\n",
        "print(eTest)"
      ],
      "execution_count": null,
      "outputs": [
        {
          "output_type": "stream",
          "text": [
            "Quantum object: dims = [[2, 2], [1, 1]], shape = (4, 1), type = ket\n",
            "Qobj data =\n",
            "[[ 0.70710678]\n",
            " [-0.70710678]\n",
            " [ 0.        ]\n",
            " [ 0.        ]]\n"
          ],
          "name": "stdout"
        }
      ]
    },
    {
      "cell_type": "code",
      "metadata": {
        "id": "_dBNOCE0O9Ic",
        "colab_type": "code",
        "colab": {
          "base_uri": "https://localhost:8080/",
          "height": 359
        },
        "outputId": "3065c998-4e3b-4a6c-8f1f-c44717b9baa7"
      },
      "source": [
        "mtest.eigenstates(eigvals=3)"
      ],
      "execution_count": null,
      "outputs": [
        {
          "output_type": "execute_result",
          "data": {
            "text/plain": [
              "(array([-2., -2.,  2.]),\n",
              " array([Quantum object: dims = [[2, 2], [1, 1]], shape = (4, 1), type = ket\n",
              " Qobj data =\n",
              " [[-0.70710678]\n",
              "  [ 0.70710678]\n",
              "  [ 0.        ]\n",
              "  [ 0.        ]],\n",
              "        Quantum object: dims = [[2, 2], [1, 1]], shape = (4, 1), type = ket\n",
              " Qobj data =\n",
              " [[ 0.        ]\n",
              "  [ 0.        ]\n",
              "  [-0.70710678]\n",
              "  [ 0.70710678]],\n",
              "        Quantum object: dims = [[2, 2], [1, 1]], shape = (4, 1), type = ket\n",
              " Qobj data =\n",
              " [[0.        ]\n",
              "  [0.        ]\n",
              "  [0.70710678]\n",
              "  [0.70710678]]], dtype=object))"
            ]
          },
          "metadata": {
            "tags": []
          },
          "execution_count": 97
        }
      ]
    },
    {
      "cell_type": "code",
      "metadata": {
        "id": "t1lYuP4BYexN",
        "colab_type": "code",
        "colab": {}
      },
      "source": [
        ""
      ],
      "execution_count": null,
      "outputs": []
    }
  ]
}